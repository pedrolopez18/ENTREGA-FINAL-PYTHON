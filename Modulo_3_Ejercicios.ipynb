{
  "nbformat": 4,
  "nbformat_minor": 0,
  "metadata": {
    "colab": {
      "provenance": [],
      "collapsed_sections": [
        "8NrI0kgCOLN2",
        "N6DxNYhpO_PL",
        "Ut0OnphvWeOw",
        "qML64F41WRTX",
        "c4ojH2gyWAYW",
        "vYeRmZSCVxE8",
        "zl5-pV1XfXi1",
        "EpkCSrR6fqEh",
        "yqpTqtBrf5pF",
        "MXXM4w69aIll"
      ],
      "include_colab_link": true
    },
    "kernelspec": {
      "name": "python3",
      "display_name": "Python 3"
    },
    "language_info": {
      "name": "python"
    }
  },
  "cells": [
    {
      "cell_type": "markdown",
      "metadata": {
        "id": "view-in-github",
        "colab_type": "text"
      },
      "source": [
        "<a href=\"https://colab.research.google.com/github/pedrolopez18/ENTREGA-FINAL-PYTHON/blob/main/Modulo_3_Ejercicios.ipynb\" target=\"_parent\"><img src=\"https://colab.research.google.com/assets/colab-badge.svg\" alt=\"Open In Colab\"/></a>"
      ]
    },
    {
      "cell_type": "markdown",
      "source": [
        "<img src=\"https://www.ctic.uni.edu.pe/wp-content/uploads/2022/04/588px-x-348px-web-1.png\" alt=\"HTML5 Icon\" width=\"900\" height=\"350\" >"
      ],
      "metadata": {
        "id": "kt2I6UBTXfTx"
      }
    },
    {
      "cell_type": "markdown",
      "source": [
        "<h1 align=center><font size = 5>UNIDAD III - FUNCIONES\n",
        "</font></h1>\n",
        "\n",
        "---"
      ],
      "metadata": {
        "id": "OVQ2JpIkXhGH"
      }
    },
    {
      "cell_type": "markdown",
      "source": [
        "#2. Usando información dentro de funciones"
      ],
      "metadata": {
        "id": "p7e7CUC_YjWU"
      }
    },
    {
      "cell_type": "markdown",
      "source": [
        "---\n",
        "\n",
        "<b> Ejercicio 1</b>\n",
        "\n",
        "Escriba una función llamada **display_message()** que imprima una oración que diga a todos lo que está aprendiendo en este capítulo. Llame a la función y asegúrese de que el mensaje se muestre correctamente.\n"
      ],
      "metadata": {
        "id": "D8I5O9AjZgLY"
      }
    },
    {
      "cell_type": "code",
      "source": [
        "def display_message():\n",
        "  \"\"\"todo lo que estamos aprendiendo en este capitulo\"\"\"\n",
        "  print(\"Estamos aprendiendo las funciones de python\")"
      ],
      "metadata": {
        "id": "R0aZ-TvoVoPW"
      },
      "execution_count": null,
      "outputs": []
    },
    {
      "cell_type": "code",
      "source": [
        "display_message()"
      ],
      "metadata": {
        "id": "OFcSWrPsWxBS",
        "outputId": "e7691ae7-6b34-43d6-c1d2-415892ba3eb9",
        "colab": {
          "base_uri": "https://localhost:8080/"
        }
      },
      "execution_count": null,
      "outputs": [
        {
          "output_type": "stream",
          "name": "stdout",
          "text": [
            "Estamos aprendiendo las funciones de python\n"
          ]
        }
      ]
    },
    {
      "cell_type": "markdown",
      "source": [
        "\n",
        "---\n",
        "\n",
        "<b> Ejercicio 2</b>\n",
        "\n",
        "Escriba una función llamada **favorite_book()** que acepte un parámetro, título. La función debe imprimir un mensaje, como Uno de mis libros favoritos es Alicia en el país de las maravillas. Llame a la función, asegurándose de incluir el título de un libro como argumento en la llamada a la función.\n",
        "\n",
        "---"
      ],
      "metadata": {
        "id": "hk_i1gS_bvyv"
      }
    },
    {
      "cell_type": "code",
      "source": [
        "def favorite_book(nombre_del_libro):\n",
        "  \"\"\"Este codigo imprime tus libros favoritos\"\"\"\n",
        "  print(f\"Uno de mis libros favoritos es {nombre_del_libro}\")\n"
      ],
      "metadata": {
        "id": "BRy_yROXVpdr"
      },
      "execution_count": null,
      "outputs": []
    },
    {
      "cell_type": "code",
      "source": [
        "favorite_book(\"Alicia en el pais de las maravillas\")"
      ],
      "metadata": {
        "id": "RNnx_YErXVj3",
        "outputId": "70d98373-a7f1-41dc-8ad8-a18fd1ff7ee4",
        "colab": {
          "base_uri": "https://localhost:8080/"
        }
      },
      "execution_count": null,
      "outputs": [
        {
          "output_type": "stream",
          "name": "stdout",
          "text": [
            "Uno de mis libros favoritos es Alicia en el pais de las maravillas\n"
          ]
        }
      ]
    },
    {
      "cell_type": "markdown",
      "source": [
        "### Evitar errores de argumento"
      ],
      "metadata": {
        "id": "21XnPX-tssX5"
      }
    },
    {
      "cell_type": "markdown",
      "source": [
        "---\n",
        "\n",
        "<b> Ejercicio 1</b>\n",
        "\n",
        "Escribe una función llamada **make_shirt()** que acepte un tamaño y el texto de un mensaje que debería estar impreso en la camiseta. La función debe imprimir una oración que resuma el tamaño de la camisa y el mensaje impreso en ella.\n",
        "\n",
        "Llame a la función una vez usando argumentos posicionales para hacer una camisa. Llame a la función por segunda vez usando argumentos de palabras clave.\n"
      ],
      "metadata": {
        "id": "ixT6ac8IrM_m"
      }
    },
    {
      "cell_type": "code",
      "source": [
        "def make_shirt(tamaño,texto):\n",
        "  \"\"\"Función que acepte un tamaño \n",
        "  y el texto de un mensaje que debería\n",
        "   estar impreso en la camiseta\"\"\"\n",
        "  print(f\"El tamaño de la camisa es {tamaño} y su mensaje es '{texto}'.\")\n",
        "\n"
      ],
      "metadata": {
        "id": "WUH6093hetPR"
      },
      "execution_count": null,
      "outputs": []
    },
    {
      "cell_type": "code",
      "source": [
        "make_shirt(\"S\",\"Estoy aprendiendo a programar\")"
      ],
      "metadata": {
        "id": "QDgZRP4afUb4",
        "outputId": "4b34f407-c456-43f3-bb1c-3b3deb19b75a",
        "colab": {
          "base_uri": "https://localhost:8080/"
        }
      },
      "execution_count": null,
      "outputs": [
        {
          "output_type": "stream",
          "name": "stdout",
          "text": [
            "El tamaño de la camisa es S y su mensaje es 'Estoy aprendiendo a programar'.\n"
          ]
        }
      ]
    },
    {
      "cell_type": "code",
      "source": [
        "make_shirt(tamaño=\"M\",texto=\"Estoy aprendiendo a programar\")"
      ],
      "metadata": {
        "id": "9vRwPzcyfkad",
        "outputId": "e33f67ab-cfba-449a-ea5f-cde396cdcc92",
        "colab": {
          "base_uri": "https://localhost:8080/"
        }
      },
      "execution_count": null,
      "outputs": [
        {
          "output_type": "stream",
          "name": "stdout",
          "text": [
            "El tamaño de la camisa es M y su mensaje es 'Estoy aprendiendo a programar'.\n"
          ]
        }
      ]
    },
    {
      "cell_type": "markdown",
      "source": [
        "---\n",
        "\n",
        "<b> Ejercicio 2</b>\n",
        "\n",
        "Modifique la función **make_shirt()** para que las camisetas sean grandes por defecto con un mensaje que diga Me encanta Python. Haz una camiseta grande y una camiseta mediana con el mensaje predeterminado y una camiseta de cualquier tamaño con un mensaje diferente.\n"
      ],
      "metadata": {
        "id": "SFKpbJpntvpg"
      }
    },
    {
      "cell_type": "code",
      "source": [
        "def make_shirt(tamaño=\"XL\",mensaje='Me encanta Python'):\n",
        "  \"\"\"Funcion que imprima las camisetas sean grandes por\n",
        "     defecto con un mensaje que diga \n",
        "     Me encanta Python\"\"\"\n",
        "  print(f\"La camiseta es tamaño {tamaño} y el mensaje es '{mensaje}'.\")\n",
        "\n"
      ],
      "metadata": {
        "id": "wQnffLX4fzcB"
      },
      "execution_count": null,
      "outputs": []
    },
    {
      "cell_type": "code",
      "source": [
        "make_shirt()"
      ],
      "metadata": {
        "id": "31XFUoySf-Ik",
        "outputId": "2b21e1cb-4f53-4018-ff44-24cd7efa9780",
        "colab": {
          "base_uri": "https://localhost:8080/"
        }
      },
      "execution_count": null,
      "outputs": [
        {
          "output_type": "stream",
          "name": "stdout",
          "text": [
            "La camiseta es tamaño XL y el mensaje es 'Me encanta Python'.\n"
          ]
        }
      ]
    },
    {
      "cell_type": "code",
      "source": [
        "make_shirt(tamaño=\"M\")"
      ],
      "metadata": {
        "id": "-kZMAQ8ggEVy",
        "outputId": "cfd3497b-1949-462b-94a6-d24e0942f882",
        "colab": {
          "base_uri": "https://localhost:8080/"
        }
      },
      "execution_count": null,
      "outputs": [
        {
          "output_type": "stream",
          "name": "stdout",
          "text": [
            "La camiseta es tamaño M y el mensaje es 'Me encanta Python'.\n"
          ]
        }
      ]
    },
    {
      "cell_type": "code",
      "source": [
        "make_shirt(tamaño=\"S\",mensaje=\"Amo programar\")"
      ],
      "metadata": {
        "id": "ML-wEYnOgIcu",
        "outputId": "07ef23bb-6167-4a36-a616-8d50f1fe20f0",
        "colab": {
          "base_uri": "https://localhost:8080/"
        }
      },
      "execution_count": null,
      "outputs": [
        {
          "output_type": "stream",
          "name": "stdout",
          "text": [
            "La camiseta es tamaño S y el mensaje es 'Amo programar'.\n"
          ]
        }
      ]
    },
    {
      "cell_type": "markdown",
      "source": [
        "---\n",
        "\n",
        "<b> Ejercicio 3</b>\n",
        "\n",
        "Escribe una función llamada **describe_city()** que acepte el nombre de una ciudad y su país. La función debe imprimir una oración simple, como Reykjavik está en Islandia. Asigne al parámetro para el país un valor predeterminado. Llame a su función para tres ciudades diferentes, al menos una de las cuales no se encuentra en el país predeterminado.\n",
        "\n",
        "----"
      ],
      "metadata": {
        "id": "G0qpoz40uBJt"
      }
    },
    {
      "cell_type": "code",
      "source": [
        "def describe_city(ciudad,pais=\"Perú\"):\n",
        "  \"\"\"Funcion que imprime el pais junto a una ciudad\"\"\"\n",
        "  print(f\"{ciudad.title()} está en {pais}\")"
      ],
      "metadata": {
        "id": "wYkmaCJTgYzQ"
      },
      "execution_count": null,
      "outputs": []
    },
    {
      "cell_type": "code",
      "source": [
        "describe_city(\"lima\")"
      ],
      "metadata": {
        "id": "yG4HIzFVg2b-",
        "outputId": "4ea090e6-e1fe-4fff-d06d-114f7bad63e0",
        "colab": {
          "base_uri": "https://localhost:8080/"
        }
      },
      "execution_count": null,
      "outputs": [
        {
          "output_type": "stream",
          "name": "stdout",
          "text": [
            "Lima está en Perú\n"
          ]
        }
      ]
    },
    {
      "cell_type": "code",
      "source": [
        "describe_city(ciudad=\"arequipa\")"
      ],
      "metadata": {
        "id": "gnw4dg72g8bB",
        "outputId": "b3e72a18-ff45-4d5a-99df-f8279ad568cb",
        "colab": {
          "base_uri": "https://localhost:8080/"
        }
      },
      "execution_count": null,
      "outputs": [
        {
          "output_type": "stream",
          "name": "stdout",
          "text": [
            "Arequipa está en Perú\n"
          ]
        }
      ]
    },
    {
      "cell_type": "code",
      "source": [
        "describe_city(pais=\"Argentina\",ciudad=\"Buenos Aires\")"
      ],
      "metadata": {
        "id": "kOtceq7bhBRh",
        "outputId": "09dd1f12-ce1f-47b7-ecd6-77cd75bd9256",
        "colab": {
          "base_uri": "https://localhost:8080/"
        }
      },
      "execution_count": null,
      "outputs": [
        {
          "output_type": "stream",
          "name": "stdout",
          "text": [
            "Buenos Aires está en Argentina\n"
          ]
        }
      ]
    },
    {
      "cell_type": "markdown",
      "source": [
        "# 4. Usando funciones con loops while"
      ],
      "metadata": {
        "id": "tSAkV-as0rdS"
      }
    },
    {
      "cell_type": "markdown",
      "source": [
        "---\n",
        "\n",
        "<b> Ejercicio 1</b>\n",
        "\n",
        "Escribe una función llamada **city_country()** que tome el nombre de una ciudad y su país. La función debería devolver una cadena con el formato siguiente:\n",
        "\n",
        "\"Santiago, Chile\"\n",
        "\n",
        "Llame a su función con al menos tres pares de ciudades y países e imprima los valores que se devuelven.\n"
      ],
      "metadata": {
        "id": "WtFtOrbS4BzE"
      }
    },
    {
      "cell_type": "code",
      "source": [
        "def city_country(ciudades, paises):\n",
        "   \"\"\" retorna paises y ciudades\"\"\"\n",
        "   full_city = f\" {ciudades}, {paises} \"\n",
        "   return full_city.title()\n",
        "\n",
        "while True:\n",
        "   print(\"Escriba salir si desea retirarse\")\n",
        "\n",
        "   f_ciudades = input(\"Ciudad: \")\n",
        "   if f_ciudades =='salir':\n",
        "       break\n",
        "\n",
        "   f_paises = input(\"Pais: \")\n",
        "   if f_paises == 'salir':\n",
        "       break\n",
        "   city_completed = city_country(f_ciudades, f_paises)\n",
        "   print(f\"{city_completed}\")\n"
      ],
      "metadata": {
        "id": "WSb8L5D2yJwU",
        "colab": {
          "base_uri": "https://localhost:8080/"
        },
        "outputId": "5baf554a-87be-4668-dd54-43a86f7e7e5a"
      },
      "execution_count": null,
      "outputs": [
        {
          "name": "stdout",
          "output_type": "stream",
          "text": [
            "Escriba salir si desea retirarse\n",
            "Ciudad: Lima\n",
            "Pais: Peru\n",
            " Lima, Peru \n",
            "Escriba salir si desea retirarse\n",
            "Ciudad: salir\n"
          ]
        }
      ]
    },
    {
      "cell_type": "markdown",
      "source": [
        "---\n",
        "\n",
        "<b> Ejercicio 2</b>\n",
        "\n",
        "Escriba una función llamada **make_album()** que cree un diccionario que describa un álbum de música. La función debe tomar el nombre de un artista y el título de un álbum, y debe devolver un diccionario que contenga estos dos datos. Utilice la función para crear tres diccionarios que representen diferentes álbumes. Imprima cada valor devuelto para mostrar que los diccionarios están almacenando la información del álbum correctamente.\n",
        "\n",
        "Use <b>None</b> para agregar un parámetro opcional a **make_album()** que le permita almacenar la cantidad de canciones en un álbum. Si la línea de llamada incluye un valor para la cantidad de canciones, agregue ese valor al diccionario del álbum. Realice al menos una nueva llamada de función que incluya la cantidad de canciones en un álbum."
      ],
      "metadata": {
        "id": "z06Pz7sy4YG0"
      }
    },
    {
      "cell_type": "code",
      "source": [
        "def make_album(artist_name, album_title, number_of_songs=None):\n",
        "    album = {'artist name': artist_name, 'album_title': album_title}\n",
        "    \n",
        "    if number_of_songs:\n",
        "        album['number of songs'] = number_of_songs\n",
        "    return album\n",
        "musician = make_album('Becky G', 'Shower')\n",
        "print(musician)\n",
        "musician = make_album('Leslie Shaw', 'Contigo', number_of_songs=3)\n",
        "print(musician)\n"
      ],
      "metadata": {
        "colab": {
          "base_uri": "https://localhost:8080/"
        },
        "id": "dCa0cIKEmYOm",
        "outputId": "1c34fad9-ecbd-4fe6-b4ad-5f67e9d17de0"
      },
      "execution_count": null,
      "outputs": [
        {
          "output_type": "stream",
          "name": "stdout",
          "text": [
            "{'artist name': 'Becky G', 'album_title': 'Shower'}\n",
            "{'artist name': 'Leslie Shaw', 'album_title': 'Contigo', 'number of songs': 3}\n"
          ]
        }
      ]
    },
    {
      "cell_type": "markdown",
      "source": [
        "---\n",
        "\n",
        "<b> Ejercicio 3</b>\n",
        "\n",
        "Comience con su programa del ejercicio anterior. Escriba un ciclo while que permita a los usuarios ingresar el artista y el título de un álbum. Una vez que tenga esa información, llame a **make_album()** con la entrada del usuario e imprima el diccionario que se crea. Asegúrese de incluir un valor de salida en el ciclo while.\n",
        "\n",
        "---"
      ],
      "metadata": {
        "id": "5iazrd6w5n-m"
      }
    },
    {
      "cell_type": "code",
      "source": [
        "while True:\n",
        "    print(\"\\nIngrese la información requerida:\")\n",
        "    print(\"(Ingrese 'salir' si desea retirarse)\")\n",
        "\n",
        "    artist = input(\"Nombre del artista: \")\n",
        "    if artist == 'salir':\n",
        "        break\n",
        "\n",
        "    album = input(\"Titulo del Album: \")\n",
        "    if album == 'salir':\n",
        "        break\n",
        "\n",
        "    tracks = input(\"Numero de canciones del album (dejar en blanco si se desconoce): \")\n",
        "    if tracks == 'salir':\n",
        "        break\n",
        "\n",
        "    print(make_album(artist, album, tracks))\n"
      ],
      "metadata": {
        "colab": {
          "base_uri": "https://localhost:8080/"
        },
        "id": "fUjqkMkyXmW_",
        "outputId": "16cf8397-af0f-47d0-bc75-54842b4e37f6"
      },
      "execution_count": null,
      "outputs": [
        {
          "name": "stdout",
          "output_type": "stream",
          "text": [
            "\n",
            "Ingrese la información requerida:\n",
            "(Ingrese 'salir' si desea retirarse)\n",
            "Nombre del artista: Karol G\n",
            "Titulo del Album: Loca\n",
            "Numero de canciones del album (dejar en blanco si se desconoce): 3\n",
            "{'artist name': 'Karol G', 'album_title': 'Loca', 'number of songs': '3'}\n",
            "\n",
            "Ingrese la información requerida:\n",
            "(Ingrese 'salir' si desea retirarse)\n",
            "Nombre del artista: salir\n"
          ]
        }
      ]
    },
    {
      "cell_type": "markdown",
      "source": [
        "### Modificar una lista en una función"
      ],
      "metadata": {
        "id": "irQJwQco81wH"
      }
    },
    {
      "cell_type": "markdown",
      "source": [
        "---\n",
        "\n",
        "<b> Ejercicio 1</b>\n",
        "\n",
        "Haz una lista que contenga una serie de mensajes de texto cortos. Pase la lista a una función llamada **show_messages()**, que imprime cada mensaje de texto.\n"
      ],
      "metadata": {
        "id": "AxoQ8UkPLzhr"
      }
    },
    {
      "cell_type": "code",
      "source": [
        "def show_messages(messages):\n",
        "  for message in messages:\n",
        "    print(f'\\n{message}')\n"
      ],
      "metadata": {
        "id": "s0rWgO0K5huY"
      },
      "execution_count": null,
      "outputs": []
    },
    {
      "cell_type": "code",
      "source": [
        "show_messages(['mensaje 1','mensaje 2','mensaje 3'])"
      ],
      "metadata": {
        "id": "Fuy0Z6jf6IQd",
        "outputId": "e609d3d5-2c27-4b5d-91dd-a596649b37d1",
        "colab": {
          "base_uri": "https://localhost:8080/"
        }
      },
      "execution_count": null,
      "outputs": [
        {
          "output_type": "stream",
          "name": "stdout",
          "text": [
            "\n",
            "mensaje 1\n",
            "\n",
            "mensaje 2\n",
            "\n",
            "mensaje 3\n"
          ]
        }
      ]
    },
    {
      "cell_type": "markdown",
      "source": [
        "---\n",
        "\n",
        "<b> Ejercicio 2</b>\n",
        "\n",
        "Comience con una copia de su programa del Ejercicio anterior. Escriba una función llamada **send_messages()** que imprima cada mensaje de texto y mueva cada mensaje a una nueva lista llamada sent_messages a medida que se imprime. Después de llamar a la función, imprima ambas listas para asegurarse de que los mensajes se movieron correctamente."
      ],
      "metadata": {
        "id": "cr6vkbj-L_4Q"
      }
    },
    {
      "cell_type": "code",
      "source": [
        "def show_messages(messages, sent_messages):\n",
        "    while messages:\n",
        "        current_message = messages.pop()\n",
        "        print(\"Actual mensaje: {}\".format(current_message))\n",
        "        sent_messages.append(current_message)\n",
        "\n",
        "\n",
        "def send_messages(sent_messages):\n",
        "    print(\"\\nLos siguientes mensajes han sido enviados:\")\n",
        "    for sent_message in sent_messages:\n",
        "        print(\"El mensaje es: {}\".format(sent_message))\n",
        "\n",
        "messages = ['Hola', '¿Como estas?', 'Adios']\n",
        "sent_messages = []\n",
        "\n",
        "show_messages(messages, sent_messages)\n",
        "send_messages(sent_messages)"
      ],
      "metadata": {
        "id": "xjbvhpY55iLV",
        "colab": {
          "base_uri": "https://localhost:8080/"
        },
        "outputId": "436330fc-599b-47c8-8381-0cf00e35dfe5"
      },
      "execution_count": null,
      "outputs": [
        {
          "output_type": "stream",
          "name": "stdout",
          "text": [
            "Actual mensaje: Adios\n",
            "Actual mensaje: ¿Como estas?\n",
            "Actual mensaje: Hola\n",
            "\n",
            "Los siguientes mensajes han sido enviados:\n",
            "El mensaje es: Adios\n",
            "El mensaje es: ¿Como estas?\n",
            "El mensaje es: Hola\n"
          ]
        }
      ]
    },
    {
      "cell_type": "markdown",
      "source": [
        "---\n",
        "\n",
        "<b> Ejercicio 3</b>\n",
        "\n",
        "Comience con su trabajo del Ejercicio anterior. Llame a la función **send_messages()** con una copia de la lista de mensajes. Después de llamar a la función, imprima ambas listas para mostrar que la lista original ha conservado sus mensajes.\n",
        "\n",
        "---"
      ],
      "metadata": {
        "id": "DeKTopX9McDP"
      }
    },
    {
      "cell_type": "code",
      "source": [
        "def show_messages(messages):\n",
        "    \"\"\"Print all messages in the list.\"\"\"\n",
        "    print(\"Showing all messages:\")\n",
        "    for message in messages:\n",
        "        print(message)\n",
        "\n",
        "def send_messages(messages, sent_messages):\n",
        "    \"\"\"Print each message, and then move it to sent_messages.\"\"\"\n",
        "    print(\"\\nSending all messages:\")\n",
        "    while messages:\n",
        "        current_message = messages.pop()\n",
        "        print(current_message)\n",
        "        sent_messages.append(current_message)\n",
        "\n",
        "messages = [\"Hola\", \"¿Como estas?\", \"Adios\"]\n",
        "show_messages(messages)\n",
        "\n",
        "sent_messages = []\n",
        "send_messages(messages, sent_messages)\n",
        "\n",
        "print(\"\\nFinal lists:\")\n",
        "print(messages)\n",
        "print(sent_messages)"
      ],
      "metadata": {
        "colab": {
          "base_uri": "https://localhost:8080/"
        },
        "id": "oczK52U8YNnK",
        "outputId": "a813a703-35a1-4a20-a128-bb39fa275950"
      },
      "execution_count": null,
      "outputs": [
        {
          "output_type": "stream",
          "name": "stdout",
          "text": [
            "Showing all messages:\n",
            "Hola\n",
            "¿Como estas?\n",
            "Adios\n",
            "\n",
            "Sending all messages:\n",
            "Adios\n",
            "¿Como estas?\n",
            "Hola\n",
            "\n",
            "Final lists:\n",
            "[]\n",
            "['Adios', '¿Como estas?', 'Hola']\n"
          ]
        }
      ]
    },
    {
      "cell_type": "markdown",
      "source": [
        "# 6. Pasar un número arbitrario de argumentos"
      ],
      "metadata": {
        "id": "Wnme938ANSqz"
      }
    },
    {
      "cell_type": "markdown",
      "source": [
        "### Uso de argumentos de palabras clave arbitrarias"
      ],
      "metadata": {
        "id": "N6DxNYhpO_PL"
      }
    },
    {
      "cell_type": "markdown",
      "source": [
        "---\n",
        "\n",
        "<b> Ejercicio 1</b>\n",
        "\n",
        "Escribe una función que acepte una lista de artículos que una persona quiere en un sándwich. La función debe tener un parámetro que recopile tantos elementos como proporcione la llamada a la función, y debe imprimir un resumen del sándwich que se está ordenando. Llame a la función tres veces, usando un número diferente de argumentos cada vez."
      ],
      "metadata": {
        "id": "0kYhXVPvQSh_"
      }
    },
    {
      "cell_type": "code",
      "source": [
        "def make_sandwich(*ingredientes):\n",
        "  \"\"\"Esta funcion lee ingredientes un sandwinch\"\"\"\n",
        "  print(\"\\nSe preparará un sandwich con los siguientes elementos:\")\n",
        "  for ingrediente in ingredientes:\n",
        "    print(f\"\\t- {ingrediente}\")\n",
        "\n",
        "make_sandwich(\"Queso\",\"Peperoni\",\"Papa\")\n"
      ],
      "metadata": {
        "colab": {
          "base_uri": "https://localhost:8080/"
        },
        "id": "CYgUMLLcTC2o",
        "outputId": "58e63c3b-5dac-4636-be76-377b25314a62"
      },
      "execution_count": 20,
      "outputs": [
        {
          "output_type": "stream",
          "name": "stdout",
          "text": [
            "\n",
            "Se preparará un sandwich con los siguientes elementos:\n",
            "\t- Queso\n",
            "\t- Peperoni\n",
            "\t- Papa\n"
          ]
        }
      ]
    },
    {
      "cell_type": "code",
      "source": [
        "def make_sandwich(*toppings):\n",
        "  \"\"\"This function displays a sandwich toppings\"\"\"\n",
        "  print('\\nLa pizza contiene los siguientes toppings:')\n",
        "  for topping in toppings:\n",
        "    print(f'- {topping}')  \n"
      ],
      "metadata": {
        "id": "rDcNXtPv8we_"
      },
      "execution_count": null,
      "outputs": []
    },
    {
      "cell_type": "code",
      "source": [
        "make_sandwich('Queso', 'Doble jamón', 'papas')"
      ],
      "metadata": {
        "id": "oQv0EqcC9cn5",
        "outputId": "c0073bc5-a8ee-45bb-b679-3e813d9158d5",
        "colab": {
          "base_uri": "https://localhost:8080/"
        }
      },
      "execution_count": null,
      "outputs": [
        {
          "output_type": "stream",
          "name": "stdout",
          "text": [
            "\n",
            "La pizza contiene los siguientes toppings:\n",
            "- Queso\n",
            "- Doble jamón\n",
            "- papas\n"
          ]
        }
      ]
    },
    {
      "cell_type": "markdown",
      "source": [
        "---\n",
        "\n",
        "<b> Ejercicio 2</b>\n",
        "\n",
        "Comience con una copia de **user_profile** de ***Uso de argumentos de palabras clave arbitrarias***. Cree un perfil de usted mismo llamando a **build_profile()**, usando su nombre y apellido y otros tres pares clave-valor que lo describan."
      ],
      "metadata": {
        "id": "NXvPqgVZQcx9"
      }
    },
    {
      "cell_type": "code",
      "source": [
        "def build_profile(first, last, **user_info):\n",
        "    \"\"\"Build a dictionary containing everything we know about a user.\"\"\"\n",
        "    user_info['first_name'] = first\n",
        "    user_info['last_name'] = last\n",
        "    return user_info\n",
        "    \n",
        "    \n",
        "user_profile = build_profile('Pedro', 'López', Pais='Perú',\n",
        "Departamento=\"Lima\")\n",
        "my_profile = build_profile('Pedro', 'López', Pais = 'Perú', Departamento = 'Lima')\n",
        "print(user_profile)\n",
        "print(my_profile)"
      ],
      "metadata": {
        "colab": {
          "base_uri": "https://localhost:8080/"
        },
        "id": "1vUpFHX0VakU",
        "outputId": "148762b1-5ab0-425f-b30f-06e43fd8c310"
      },
      "execution_count": null,
      "outputs": [
        {
          "output_type": "stream",
          "name": "stdout",
          "text": [
            "{'Pais': 'Perú', 'Departamento': 'Lima', 'first_name': 'Pedro', 'last_name': 'López'}\n",
            "{'Pais': 'Perú', 'Departamento': 'Lima', 'first_name': 'Pedro', 'last_name': 'López'}\n"
          ]
        }
      ]
    },
    {
      "cell_type": "markdown",
      "source": [
        "---\n",
        "\n",
        "<b> Ejercicio 3</b>\n",
        "\n",
        "Escribe una función que almacene información sobre un automóvil en un diccionario. La función siempre debe recibir un fabricante y un nombre de modelo. Entonces debería aceptar un número arbitrario de argumentos de palabras clave. Llame a la función con la información requerida y otros dos pares de nombre y valor, como un color o una función opcional. Su función debería funcionar para una llamada como esta:\n",
        "\n",
        "coche = **make_car**('subaru', 'outback', color='blue', tow_package=True)\n",
        "\n",
        "Imprima el diccionario que se devuelve para asegurarse de que toda la información se almacenó correctamente.\n",
        "\n",
        "---"
      ],
      "metadata": {
        "id": "gpj7y6NYQjLq"
      }
    },
    {
      "cell_type": "code",
      "source": [
        "def make_car(manufacturer, model, **options):\n",
        "    \"\"\"Make a dictionary representing a car.\"\"\"\n",
        "    car_dict = {\n",
        "        'manufacturer': manufacturer.title(),\n",
        "        'model': model.title(),\n",
        "        }\n",
        "    for option, value in options.items():\n",
        "        car_dict[option] = value\n",
        "\n",
        "    return car_dict\n",
        "\n",
        "my_outback = make_car('subaru', 'outback', color='blue', tow_package=True)\n",
        "print(my_outback)\n",
        "\n",
        "my_accord = make_car('Toyota', 'accord', year=1991, color='blanco',\n",
        "        headlights='pop up')\n",
        "print(my_accord)"
      ],
      "metadata": {
        "colab": {
          "base_uri": "https://localhost:8080/"
        },
        "id": "ImwZ-poTcJWi",
        "outputId": "ea903595-cac9-4445-a870-a493b31b138f"
      },
      "execution_count": 26,
      "outputs": [
        {
          "output_type": "stream",
          "name": "stdout",
          "text": [
            "{'manufacturer': 'Subaru', 'model': 'Outback', 'color': 'blue', 'tow_package': True}\n",
            "{'manufacturer': 'Toyota', 'model': 'Accord', 'year': 1991, 'color': 'blanco', 'headlights': 'pop up'}\n"
          ]
        }
      ]
    },
    {
      "cell_type": "markdown",
      "source": [
        "# 8. Introducción a Clases"
      ],
      "metadata": {
        "id": "zl5-pV1XfXi1"
      }
    },
    {
      "cell_type": "markdown",
      "source": [
        "---\n",
        "\n",
        "<b> Ejercicio 1</b>\n",
        "\n",
        "Haz una clase llamada Restaurante. El método __init__() para Restaurante debe almacenar dos atributos: un nombre_restaurante y un tipo_cocina. Cree un método llamado describe_restaurant() que imprima estos dos datos y un método llamado open_restaurant() que imprima un mensaje que indique que el restaurante está abierto.\n",
        "\n",
        "Cree una instancia llamada restaurante de su clase. Imprima los dos atributos individualmente y luego llame a ambos métodos."
      ],
      "metadata": {
        "id": "kp8q0QVDgqkZ"
      }
    },
    {
      "cell_type": "code",
      "source": [
        "class Restaurante:\n",
        "    \"\"\"A simple attempt to model a restaurante.\"\"\"\n",
        "    def __init__(self, nombre_restaurante, tipo_cocina):\n",
        "        \"\"\"Initialize name and age attributes.\"\"\"\n",
        "        self.nombre_restaurante = nombre_restaurante\n",
        "        self.tipo_cocina = tipo_cocina\n",
        "\n",
        "    def describe_restaurant(self):\n",
        "        \"\"\"\"\"\"\n",
        "        print(f'{self.nombre_restaurante}, {self.tipo_cocina}')\n",
        "\n",
        "    def open_restaurant(self):\n",
        "        \"\"\"\"\"\"\n",
        "        print('El restaurante esta abierto')\n",
        "\n",
        "        "
      ],
      "metadata": {
        "id": "g7gst4DZAlSO"
      },
      "execution_count": 28,
      "outputs": []
    },
    {
      "cell_type": "code",
      "source": [
        "my_rest = Restaurante('El Celler de Can Roca ', 'Criolla')"
      ],
      "metadata": {
        "id": "kkVZF-lTBS-S"
      },
      "execution_count": 29,
      "outputs": []
    },
    {
      "cell_type": "code",
      "source": [
        "my_rest.nombre_restaurante"
      ],
      "metadata": {
        "id": "Nb2A0lTlBd8O",
        "outputId": "32f52856-c831-4557-97e4-ce615aa88401",
        "colab": {
          "base_uri": "https://localhost:8080/",
          "height": 35
        }
      },
      "execution_count": 30,
      "outputs": [
        {
          "output_type": "execute_result",
          "data": {
            "text/plain": [
              "'El Celler de Can Roca '"
            ],
            "application/vnd.google.colaboratory.intrinsic+json": {
              "type": "string"
            }
          },
          "metadata": {},
          "execution_count": 30
        }
      ]
    },
    {
      "cell_type": "code",
      "source": [
        "my_rest.describe_restaurant()"
      ],
      "metadata": {
        "id": "Xmx3--qlBhrG",
        "outputId": "d8a23955-67a0-4719-fc4f-b3cdf2806769",
        "colab": {
          "base_uri": "https://localhost:8080/"
        }
      },
      "execution_count": 31,
      "outputs": [
        {
          "output_type": "stream",
          "name": "stdout",
          "text": [
            "El Celler de Can Roca , Criolla\n"
          ]
        }
      ]
    },
    {
      "cell_type": "code",
      "source": [
        "my_rest.open_restaurant()"
      ],
      "metadata": {
        "id": "bpm8vBr2B5mT",
        "outputId": "727204b4-fc36-4f2f-9ded-aa826dadb5fc",
        "colab": {
          "base_uri": "https://localhost:8080/"
        }
      },
      "execution_count": 32,
      "outputs": [
        {
          "output_type": "stream",
          "name": "stdout",
          "text": [
            "El restaurante esta abierto\n"
          ]
        }
      ]
    },
    {
      "cell_type": "markdown",
      "source": [
        "---\n",
        "\n",
        "<b> Ejercicio 2</b>\n",
        "\n",
        "Comience con su clase del Ejercicio anterior. Cree tres instancias diferentes de la clase y llame a **describe_restaurant**() para cada instancia."
      ],
      "metadata": {
        "id": "uD1V4MnYgxO2"
      }
    },
    {
      "cell_type": "code",
      "source": [
        "my_rest1 = Restaurante('Gaston Acurio', 'Criolla')\n",
        "my_rest2 = Restaurante('Señor Limon', 'Marina')\n",
        "my_rest3 = Restaurante('Charrua', 'Carnes')"
      ],
      "metadata": {
        "id": "_OeMpa-OCCIm"
      },
      "execution_count": 33,
      "outputs": []
    },
    {
      "cell_type": "code",
      "source": [
        "my_rest1.describe_restaurant() "
      ],
      "metadata": {
        "id": "cbxcp9m8CNNF",
        "outputId": "f65a9627-423a-4ae5-9396-4b443dac484f",
        "colab": {
          "base_uri": "https://localhost:8080/"
        }
      },
      "execution_count": 34,
      "outputs": [
        {
          "output_type": "stream",
          "name": "stdout",
          "text": [
            "Gaston Acurio, Criolla\n"
          ]
        }
      ]
    },
    {
      "cell_type": "code",
      "source": [
        "my_rest2.describe_restaurant() "
      ],
      "metadata": {
        "id": "qiLUedoKCRGo",
        "outputId": "2c518800-079d-4b0a-edb6-48bb603ba917",
        "colab": {
          "base_uri": "https://localhost:8080/"
        }
      },
      "execution_count": 35,
      "outputs": [
        {
          "output_type": "stream",
          "name": "stdout",
          "text": [
            "Señor Limon, Marina\n"
          ]
        }
      ]
    },
    {
      "cell_type": "markdown",
      "source": [
        "---\n",
        "\n",
        "<b> Ejercicio 3</b>\n",
        "\n",
        "Haz una clase llamada Usuario. Cree dos atributos llamados **first_name** y **last_name**, y luego cree varios otros atributos que normalmente se almacenan en un perfil de usuario. Cree un método llamado **describe_user**() que imprima un resumen de la información del usuario. Cree otro método llamado **greeting_user**() que imprima un saludo personalizado para el usuario.\n",
        "\n",
        "Cree varias instancias que representen a diferentes usuarios y llame a ambos métodos para cada usuario.\n",
        "\n",
        "---"
      ],
      "metadata": {
        "id": "PlqVFUueg2QI"
      }
    },
    {
      "cell_type": "code",
      "source": [
        "class User():\n",
        "    \"\"\"Representando un perfil.\"\"\"\n",
        "\n",
        "    def __init__(self, first_name, last_name, username, email, location):\n",
        "        \"\"\"Initialize the user.\"\"\"\n",
        "        self.first_name = first_name.title()\n",
        "        self.last_name = last_name.title()\n",
        "        self.username = username\n",
        "        self.email = email\n",
        "        self.location = location.title()\n",
        "\n",
        "    def describe_user(self):\n",
        "        \"\"\"Display a summary of the user's information.\"\"\"\n",
        "        print(\"\\n\" + self.first_name + \" \" + self.last_name)\n",
        "        print(\"  Username: \" + self.username)\n",
        "        print(\"  Email: \" + self.email)\n",
        "        print(\"  Location: \" + self.location)\n",
        "\n",
        "    def greet_user(self):\n",
        "        \"\"\"Display a personalized greeting to the user.\"\"\"\n",
        "        print(\"\\nWelcome back, \" + self.username + \"!\")\n",
        "\n",
        "pedro = User('Pedro', 'López', 'Pedrito', 'pedrolopezflores5@gmail.com', 'Lima')\n",
        "pedro.describe_user()\n",
        "pedro.greet_user()\n",
        "\n",
        "fatima = User('Fatima', 'López', 'Fati', 'fatimalopezflores4@gmail.com', 'Lima')\n",
        "fatima.describe_user()\n",
        "fatima.greet_user()"
      ],
      "metadata": {
        "colab": {
          "base_uri": "https://localhost:8080/"
        },
        "id": "0elUMobxf3lt",
        "outputId": "8e22f402-1ce9-43a3-ca99-73e8d7428d0f"
      },
      "execution_count": 38,
      "outputs": [
        {
          "output_type": "stream",
          "name": "stdout",
          "text": [
            "\n",
            "Pedro López\n",
            "  Username: Pedrito\n",
            "  Email: pedrolopezflores5@gmail.com\n",
            "  Location: Lima\n",
            "\n",
            "Welcome back, Pedrito!\n",
            "\n",
            "Fatima López\n",
            "  Username: Fati\n",
            "  Email: fatimalopezflores4@gmail.com\n",
            "  Location: Lima\n",
            "\n",
            "Welcome back, Fati!\n"
          ]
        }
      ]
    },
    {
      "cell_type": "markdown",
      "source": [
        "---\n",
        "\n",
        "# Gracias por completar este laboratorio!\n",
        "\n",
        "---\n"
      ],
      "metadata": {
        "id": "MXXM4w69aIll"
      }
    }
  ]
}