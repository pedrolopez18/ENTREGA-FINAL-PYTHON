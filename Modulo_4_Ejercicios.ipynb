{
  "nbformat": 4,
  "nbformat_minor": 0,
  "metadata": {
    "colab": {
      "provenance": [],
      "include_colab_link": true
    },
    "kernelspec": {
      "name": "python3",
      "display_name": "Python 3"
    },
    "language_info": {
      "name": "python"
    }
  },
  "cells": [
    {
      "cell_type": "markdown",
      "metadata": {
        "id": "view-in-github",
        "colab_type": "text"
      },
      "source": [
        "<a href=\"https://colab.research.google.com/github/pedrolopez18/ENTREGA-FINAL-PYTHON/blob/main/Modulo_4_Ejercicios.ipynb\" target=\"_parent\"><img src=\"https://colab.research.google.com/assets/colab-badge.svg\" alt=\"Open In Colab\"/></a>"
      ]
    },
    {
      "cell_type": "markdown",
      "source": [
        "<img src=\"https://www.ctic.uni.edu.pe/wp-content/uploads/2022/04/588px-x-348px-web-1.png\" alt=\"HTML5 Icon\" width=\"900\" height=\"350\" >"
      ],
      "metadata": {
        "id": "atsxxNXNyS0i"
      }
    },
    {
      "cell_type": "markdown",
      "source": [
        "<h1 align=center><font size = 5>UNIDAD IV - ESTRUCTURAS DE DATOS\n",
        "</font></h1>\n",
        "\n",
        "---"
      ],
      "metadata": {
        "id": "4p5vLlhHyXK5"
      }
    },
    {
      "cell_type": "markdown",
      "source": [
        "### List Comprehensions\n"
      ],
      "metadata": {
        "id": "H68897kt3Xan"
      }
    },
    {
      "cell_type": "markdown",
      "source": [
        "---\n",
        "\n",
        "<b> Ejercicio 1</b>\n",
        "\n",
        "use un bucle **for** para imprimir los números del 1 al 20, inclusive.\n"
      ],
      "metadata": {
        "id": "v8l2iiax3w6L"
      }
    },
    {
      "cell_type": "code",
      "source": [
        "numbers = list(range(1, 21))\n",
        "\n",
        "for number in numbers:\n",
        "    print(number)"
      ],
      "metadata": {
        "id": "mLM9w9yWjcX9",
        "colab": {
          "base_uri": "https://localhost:8080/"
        },
        "outputId": "e4a7a8c6-6ebb-43ed-b81c-68afbfde88b9"
      },
      "execution_count": 1,
      "outputs": [
        {
          "output_type": "stream",
          "name": "stdout",
          "text": [
            "1\n",
            "2\n",
            "3\n",
            "4\n",
            "5\n",
            "6\n",
            "7\n",
            "8\n",
            "9\n",
            "10\n",
            "11\n",
            "12\n",
            "13\n",
            "14\n",
            "15\n",
            "16\n",
            "17\n",
            "18\n",
            "19\n",
            "20\n"
          ]
        }
      ]
    },
    {
      "cell_type": "markdown",
      "source": [
        "---\n",
        "\n",
        "<b> Ejercicio 2</b>\n",
        "\n",
        "Haga una lista de los números del uno al millón y luego use un ciclo for para imprimir los números. (Si la salida tarda demasiado, deténgala presionando CTRL-C o cerrando la ventana de salida).\n"
      ],
      "metadata": {
        "id": "rYzzJUd64HR1"
      }
    },
    {
      "cell_type": "code",
      "source": [
        "numbers = list(range(1, 1000001))\n",
        "\n",
        "for number in numbers:\n",
        "    print(number)"
      ],
      "metadata": {
        "id": "FNmdueLdk7Un"
      },
      "execution_count": null,
      "outputs": []
    },
    {
      "cell_type": "markdown",
      "source": [
        "---\n",
        "\n",
        "<b> Ejercicio 3</b>\n",
        "\n",
        "Haga una lista de los números del uno al millón y luego use min() y max() para asegurarse de que su lista realmente comience en uno y termine en un millón. Además, use la función sum() para ver qué tan rápido Python puede agregar un millón de números.\n"
      ],
      "metadata": {
        "id": "2qrKdPpb4chR"
      }
    },
    {
      "cell_type": "code",
      "source": [
        "numbers = list(range(1, 1000001))\n",
        "\n",
        "print(min(numbers))\n",
        "print(max(numbers))\n",
        "print(sum(numbers))"
      ],
      "metadata": {
        "colab": {
          "base_uri": "https://localhost:8080/"
        },
        "id": "Azlf_NWdlFof",
        "outputId": "ac0fa8f9-e345-46ec-b657-34ff6db90747"
      },
      "execution_count": 2,
      "outputs": [
        {
          "output_type": "stream",
          "name": "stdout",
          "text": [
            "1\n",
            "1000000\n",
            "500000500000\n"
          ]
        }
      ]
    },
    {
      "cell_type": "markdown",
      "source": [
        "---\n",
        "\n",
        "<b> Ejercicio 4</b>\n",
        "\n",
        "Use el tercer argumento de la función range() para hacer una lista de los números impares del 1 al 20. Use un bucle for para imprimir cada número.\n"
      ],
      "metadata": {
        "id": "oizdiWqQ44qx"
      }
    },
    {
      "cell_type": "code",
      "source": [
        "for i in range(1, 20, 2):\n",
        "    print(i)\n"
      ],
      "metadata": {
        "colab": {
          "base_uri": "https://localhost:8080/"
        },
        "id": "oaAOnzk7lSOG",
        "outputId": "b50faadb-2aad-4e37-ca17-db23a765a62e"
      },
      "execution_count": 3,
      "outputs": [
        {
          "output_type": "stream",
          "name": "stdout",
          "text": [
            "1\n",
            "3\n",
            "5\n",
            "7\n",
            "9\n",
            "11\n",
            "13\n",
            "15\n",
            "17\n",
            "19\n"
          ]
        }
      ]
    },
    {
      "cell_type": "markdown",
      "source": [
        "---\n",
        "\n",
        "<b> Ejercicio 5</b>\n",
        "\n",
        "Haga una lista de los múltiplos de 3 de 3 a 30. Use un ciclo for para imprimir los números en su lista.\n"
      ],
      "metadata": {
        "id": "yK9dmJJi5W6W"
      }
    },
    {
      "cell_type": "code",
      "source": [
        "for i in range(3, 33, 3):\n",
        "    print(i)"
      ],
      "metadata": {
        "colab": {
          "base_uri": "https://localhost:8080/"
        },
        "id": "Mv5sMdSIlfIG",
        "outputId": "5dab3925-307b-4737-d4da-6bd23600e37b"
      },
      "execution_count": 4,
      "outputs": [
        {
          "output_type": "stream",
          "name": "stdout",
          "text": [
            "3\n",
            "6\n",
            "9\n",
            "12\n",
            "15\n",
            "18\n",
            "21\n",
            "24\n",
            "27\n",
            "30\n"
          ]
        }
      ]
    },
    {
      "cell_type": "markdown",
      "source": [
        "---\n",
        "\n",
        "<b> Ejercicio 6</b>\n",
        "\n",
        "Haga una lista de los primeros 10 cubos (es decir, el cubo de cada número entero del 1 al 10) y use un ciclo for para imprimir el valor de cada cubo.\n"
      ],
      "metadata": {
        "id": "qqdPT25k5d23"
      }
    },
    {
      "cell_type": "code",
      "source": [
        "for i in range(1, 11):\n",
        "    print(\"{} al cubo es {}\".format(i, i ** 3))"
      ],
      "metadata": {
        "colab": {
          "base_uri": "https://localhost:8080/"
        },
        "id": "kiEx4aPVlkZg",
        "outputId": "4bfc67b8-2355-4828-8f94-f114cf5fc535"
      },
      "execution_count": 7,
      "outputs": [
        {
          "output_type": "stream",
          "name": "stdout",
          "text": [
            "1 al cubo es 1\n",
            "2 al cubo es 8\n",
            "3 al cubo es 27\n",
            "4 al cubo es 64\n",
            "5 al cubo es 125\n",
            "6 al cubo es 216\n",
            "7 al cubo es 343\n",
            "8 al cubo es 512\n",
            "9 al cubo es 729\n",
            "10 al cubo es 1000\n"
          ]
        }
      ]
    },
    {
      "cell_type": "markdown",
      "source": [
        "---\n",
        "\n",
        "<b> Ejercicio 7</b>\n",
        "\n",
        "Use una lista de comprensión para generar una lista de los primeros 10 cubos.\n",
        "\n",
        "---"
      ],
      "metadata": {
        "id": "MQfhaTOo59GS"
      }
    },
    {
      "cell_type": "code",
      "source": [
        "[i**3 for i in range(1,11)]"
      ],
      "metadata": {
        "colab": {
          "base_uri": "https://localhost:8080/"
        },
        "id": "-FYz21VQlt0O",
        "outputId": "3ef2c268-5392-4d0e-9314-3ec4c0706379"
      },
      "execution_count": 11,
      "outputs": [
        {
          "output_type": "execute_result",
          "data": {
            "text/plain": [
              "[1, 8, 27, 64, 125, 216, 343, 512, 729, 1000]"
            ]
          },
          "metadata": {},
          "execution_count": 11
        }
      ]
    },
    {
      "cell_type": "markdown",
      "source": [
        "# 2. Trabajando con slices"
      ],
      "metadata": {
        "id": "-h_22RYJ6U9R"
      }
    },
    {
      "cell_type": "markdown",
      "source": [
        "---\n",
        "\n",
        "<b> Ejercicio 1</b>\n",
        "\n",
        "Utilizando alguna lista definida anteriormente:\n",
        "\n",
        "*   Imprima el mensaje **Los tres primeros elementos de la lista son:**. Luego use un slice para imprimir los primeros tres elementos de la lista de ese programa.\n",
        "\n",
        "*   Imprima el mensaje **Tres elementos de la mitad de la lista son:**. Use un slice para imprimir tres elementos del medio de la lista.\n",
        "\n",
        "*   Imprima el mensaje **Los últimos tres elementos de la lista son:**. Utilice un slice para imprimir los últimos tres elementos de la lista."
      ],
      "metadata": {
        "id": "H30p04iC93Ma"
      }
    },
    {
      "cell_type": "code",
      "source": [
        "cities = [\"london\", \"munich\", \"cancun\", \"paris\", \"tokyo\"]\n",
        "print(cities[0:4])\n",
        "print(cities[2])\n",
        "print(cities[2:])\n"
      ],
      "metadata": {
        "colab": {
          "base_uri": "https://localhost:8080/"
        },
        "id": "RxuHMqeLmEaX",
        "outputId": "e3259d67-c55a-46f2-df78-3769c14ba9d7"
      },
      "execution_count": 12,
      "outputs": [
        {
          "output_type": "stream",
          "name": "stdout",
          "text": [
            "['london', 'munich', 'cancun', 'paris']\n",
            "cancun\n",
            "['cancun', 'paris', 'tokyo']\n"
          ]
        }
      ]
    },
    {
      "cell_type": "markdown",
      "source": [
        "---\n",
        "\n",
        "<b> Ejercicio 2</b>\n",
        "\n",
        "Haga una copia de la lista de pizzas y llámela friend_pizzas. Luego, haz lo siguiente:\n",
        "\n",
        "* Agregue una nueva pizza a la lista original.\n",
        "* Agrega una pizza diferente a la lista friend_pizzas.\n",
        "* Demuestra que tienes dos listas separadas. Imprima el mensaje Mis pizzas favoritas son: y luego use un bucle for para imprimir la primera lista. Imprima el mensaje Las pizzas favoritas de mi amigo son: y luego use un bucle for para imprimir la segunda lista. Asegúrese de que cada pizza nueva se almacene en la lista adecuada."
      ],
      "metadata": {
        "id": "0SzOQQ7S_s1U"
      }
    },
    {
      "cell_type": "code",
      "source": [
        "pizzas = [\"peperoni\", \"piña\", \"americana\"]\n",
        "friend_pizzas = [\"peperoni\", \"piña\", \"americana\"]\n",
        "\n",
        "pizzas.append(\"barbecue\")\n",
        "friend_pizzas.append(\"cebolla\")\n",
        "\n",
        "for pizza in pizzas:\n",
        "    print(pizza)\n",
        "    \n",
        "print()\n",
        "for friend_pizza in friend_pizzas:\n",
        "    print(friend_pizza)"
      ],
      "metadata": {
        "colab": {
          "base_uri": "https://localhost:8080/"
        },
        "id": "AQyRgW1UmPz2",
        "outputId": "67c9b431-3956-4179-fd69-dc2dc0fd59ab"
      },
      "execution_count": 15,
      "outputs": [
        {
          "output_type": "stream",
          "name": "stdout",
          "text": [
            "peperoni\n",
            "piña\n",
            "americana\n",
            "barbecue\n",
            "\n",
            "peperoni\n",
            "piña\n",
            "americana\n",
            "cebolla\n"
          ]
        }
      ]
    },
    {
      "cell_type": "markdown",
      "source": [
        "### **TUPLAS**"
      ],
      "metadata": {
        "id": "Ot5b-rCKjk1X"
      }
    },
    {
      "cell_type": "markdown",
      "source": [
        "---\n",
        "\n",
        "<b> Ejercicio 1</b>\n",
        "\n",
        "Un restaurante estilo buffet ofrece solo cinco alimentos básicos. Piense en cinco alimentos simples y guárdelos en una tupla.\n",
        "\n",
        "* Use un bucle for para imprimir cada comida que ofrece el restaurante.\n",
        "Intente modificar uno de los elementos y asegúrese de que Python rechace el cambio.\n",
        "* El restaurante cambia su menú, reemplazando dos de los artículos con comidas diferentes. Agregue una línea que reescriba la tupla y luego use un ciclo for para imprimir cada uno de los elementos en el menú revisado.\n",
        "\n",
        "---"
      ],
      "metadata": {
        "id": "WHk9FL9lDtBY"
      }
    },
    {
      "cell_type": "code",
      "source": [
        "menu_items = (\n",
        "    'ceviche', 'arroz con pollo', 'seco de pollo',\n",
        "    'arroz chaufa', 'caldo de gallina',\n",
        "    )\n",
        "\n",
        "print(\"Puede elegir entre los siguientes elementos del menú:\")\n",
        "for item in menu_items:\n",
        "    print(\"- \" + item)\n",
        "\n",
        "menu_items = (\n",
        "    'ceviche', 'arroz con pollo', 'seco de pollo',\n",
        "    'arroz a la jardinera', 'higado frito',\n",
        "    )\n",
        "\n",
        "\n",
        "print(\"\\nNuestro menu ha cambiado.\")\n",
        "print(\"Ahora puede elegir entre los siguientes elementos:\")\n",
        "for item in menu_items:\n",
        "    print(\"- \" + item)"
      ],
      "metadata": {
        "colab": {
          "base_uri": "https://localhost:8080/"
        },
        "id": "qwhtig9Wmvl4",
        "outputId": "5d2503bf-54b4-4f47-8237-3447477ded5d"
      },
      "execution_count": 18,
      "outputs": [
        {
          "output_type": "stream",
          "name": "stdout",
          "text": [
            "Puede elegir entre los siguientes elementos del menú:\n",
            "- ceviche\n",
            "- arroz con pollo\n",
            "- seco de pollo\n",
            "- arroz chaufa\n",
            "- caldo de gallina\n",
            "\n",
            "Nuestro menu ha cambiado.\n",
            "Ahora puede elegir entre los siguientes elementos:\n",
            "- ceviche\n",
            "- arroz con pollo\n",
            "- seco de pollo\n",
            "- arroz a la jardinera\n",
            "- higado frito\n"
          ]
        }
      ]
    },
    {
      "cell_type": "markdown",
      "source": [
        "# 4. Diccionarios"
      ],
      "metadata": {
        "id": "BZTa7B8LFrIG"
      }
    },
    {
      "cell_type": "markdown",
      "source": [
        "---\n",
        "\n",
        "<b> Ejercicio 1</b>\n",
        "\n",
        "Usa un diccionario para almacenar información sobre una persona que conoces. Almacene su nombre, apellido, edad y la ciudad en la que vive. Debe tener claves como nombre, apellido, edad y ciudad. Imprima cada parte de información almacenada en su diccionario.\n",
        "\n"
      ],
      "metadata": {
        "id": "ctXa-OLlQaXn"
      }
    },
    {
      "cell_type": "code",
      "source": [
        "person = {\n",
        "    'first_name': 'Pedro',\n",
        "    'last_name': 'López',\n",
        "    'age': 21,\n",
        "    'city': 'Lima',\n",
        "    }\n",
        "\n",
        "print(person['first_name'])\n",
        "print(person['last_name'])\n",
        "print(person['age'])\n",
        "print(person['city'])"
      ],
      "metadata": {
        "colab": {
          "base_uri": "https://localhost:8080/"
        },
        "id": "QtCIoy8Qn4pA",
        "outputId": "3c7b4f02-a8d4-4589-fc5c-b5e35c3d9712"
      },
      "execution_count": 20,
      "outputs": [
        {
          "output_type": "stream",
          "name": "stdout",
          "text": [
            "Pedro\n",
            "López\n",
            "21\n",
            "Lima\n"
          ]
        }
      ]
    },
    {
      "cell_type": "markdown",
      "source": [
        "---\n",
        "\n",
        "<b> Ejercicio 2</b>\n",
        "\n",
        "Use un diccionario para almacenar los números favoritos de las personas. Piensa en cinco nombres y utilízalos como llaves en tu diccionario. Piense en un número favorito para cada persona y guárdelo como un valor en su diccionario. Escriba el nombre de cada persona y su número favorito. \n",
        "\n"
      ],
      "metadata": {
        "id": "7_krS5iiQ7KW"
      }
    },
    {
      "cell_type": "code",
      "source": [
        "favorite_numbers = {\n",
        "    'Pedro': 24,\n",
        "    'Jorge': 58,\n",
        "    'Gustavo': 77,\n",
        "    'Jamil': 100,\n",
        "    'Marga': 20,\n",
        "    }\n",
        "\n",
        "num = favorite_numbers['Pedro']\n",
        "print(\"El numero favorito de Pedro \" + str(num) + \".\")\n",
        "\n",
        "num = favorite_numbers['Jorge']\n",
        "print(\"El numero favorito de Jorge \" + str(num) + \".\")\n",
        "\n",
        "num = favorite_numbers['Gustavo']\n",
        "print(\"El numero favorito de Gustavo \" + str(num) + \".\")\n",
        "\n",
        "num = favorite_numbers['Jamil']\n",
        "print(\"El numero favorito de Jamil \" + str(num) + \".\")\n",
        "\n",
        "num = favorite_numbers['Marga']\n",
        "print(\"El numero favorito de Marga \" + str(num) + \".\")"
      ],
      "metadata": {
        "colab": {
          "base_uri": "https://localhost:8080/"
        },
        "id": "SdmRRhnwn5PA",
        "outputId": "ee8a8a26-0370-450d-d365-407da8544802"
      },
      "execution_count": 23,
      "outputs": [
        {
          "output_type": "stream",
          "name": "stdout",
          "text": [
            "El numero favorito de Pedro 24.\n",
            "El numero favorito de Jorge 58.\n",
            "El numero favorito de Gustavo 77.\n",
            "El numero favorito de Jamil 100.\n",
            "El numero favorito de Marga 20.\n"
          ]
        }
      ]
    },
    {
      "cell_type": "markdown",
      "source": [
        "---\n",
        "\n",
        "<b> Ejercicio 3</b>\n",
        "\n",
        "Piense en cinco palabras de programación que haya aprendido. Utilice estas palabras como llaves en su glosario y almacene sus significados como valores.\n",
        "\n",
        "Imprima cada palabra y su significado como una salida con un formato ordenado. Puede imprimir la palabra seguida de dos puntos y luego su significado, o imprimir la palabra en una línea y luego imprimir su significado con sangría en una segunda línea. Utilice el carácter de nueva línea (\\n) para insertar una línea en blanco entre cada par de palabra y significado en su salida.\n",
        "\n",
        "---"
      ],
      "metadata": {
        "id": "PmMzWA-nVOOi"
      }
    },
    {
      "cell_type": "code",
      "source": [
        "glossary = {\n",
        "    'Casa': 'Lugar donde vive una persona.',\n",
        "    'Comentario': 'Conjunto de palabras que puede decir una persona.',\n",
        "    'Operaciones matematicas': 'Conjunto de operaciones desde la suma hasta la division.',\n",
        "    'Diccionario': 'Libro donde se consulta en que se recoge y se define o traduce.',\n",
        "    'Cama': \"Lugar donde una persona puede descansar.\",\n",
        "    }\n",
        "\n",
        "word = 'Casa'\n",
        "print(\"\\n\" + word.title() + \": \" + glossary[word])\n",
        "\n",
        "word = 'Comentario'\n",
        "print(\"\\n\" + word.title() + \": \" + glossary[word])\n",
        "\n",
        "word = 'Operaciones matematicas'\n",
        "print(\"\\n\" + word.title() + \": \" + glossary[word])\n",
        "\n",
        "word = 'Diccionario'\n",
        "print(\"\\n\" + word.title() + \": \" + glossary[word])\n",
        "\n",
        "word = 'Cama'\n",
        "print(\"\\n\" + word.title() + \": \" + glossary[word])"
      ],
      "metadata": {
        "colab": {
          "base_uri": "https://localhost:8080/"
        },
        "id": "P5CEWFjnn5rh",
        "outputId": "c65fd257-84d2-4299-aca9-45004efbdc76"
      },
      "execution_count": 25,
      "outputs": [
        {
          "output_type": "stream",
          "name": "stdout",
          "text": [
            "\n",
            "Casa: Lugar donde vive una persona.\n",
            "\n",
            "Comentario: Conjunto de palabras que puede decir una persona.\n",
            "\n",
            "Operaciones Matematicas: Conjunto de operaciones desde la suma hasta la division.\n",
            "\n",
            "Diccionario: Libro donde se consulta en que se recoge y se define o traduce.\n",
            "\n",
            "Cama: Lugar donde una persona puede descansar.\n"
          ]
        }
      ]
    },
    {
      "cell_type": "markdown",
      "source": [
        "---\n",
        "\n",
        "<b> Ejercicio 1</b>\n",
        "\n",
        "Haga un diccionario que contenga tres ríos principales y el país por el que pasa cada río. Un par clave-valor podría ser 'nilo': 'egipto'.\n",
        "\n",
        "* Use un bucle para imprimir una oración sobre cada río, como El Nilo atraviesa Egipto.\n",
        "* Utilice un bucle para imprimir el nombre de cada río incluido en el diccionario.\n",
        "* Use un bucle para imprimir el nombre de cada país incluido en el diccionario.\n"
      ],
      "metadata": {
        "id": "Ov6u5MxIj2WA"
      }
    },
    {
      "cell_type": "code",
      "source": [
        "rivers = {\n",
        "    'Nilo': 'Egipto',\n",
        "    'Misisipi': 'Estados Unidos',\n",
        "    'Fraser': 'Canada',\n",
        "    'Kuskokwim': 'Alaska',\n",
        "    'Yangtze': 'China',\n",
        "    }\n",
        "\n",
        "for river, country in rivers.items():\n",
        "    print(\"El \" + river.title() + \" fluye a través \" + country.title() + \".\")\n",
        "\n",
        "print(\"\\nLos siguientes ríos están incluidos en este conjunto de datos:\")\n",
        "for river in rivers.keys():\n",
        "    print(\"- \" + river.title())\n",
        "\n",
        "print(\"\\nLos siguientes países están incluidos en este conjunto de datos:\")\n",
        "for country in rivers.values():\n",
        "    print(\"- \" + country.title())"
      ],
      "metadata": {
        "colab": {
          "base_uri": "https://localhost:8080/"
        },
        "id": "c5iOQYthn6CP",
        "outputId": "cd4303de-adbc-462e-8fca-185edcb82287"
      },
      "execution_count": 27,
      "outputs": [
        {
          "output_type": "stream",
          "name": "stdout",
          "text": [
            "El Nilo fluye a través Egipto.\n",
            "El Misisipi fluye a través Estados Unidos.\n",
            "El Fraser fluye a través Canada.\n",
            "El Kuskokwim fluye a través Alaska.\n",
            "El Yangtze fluye a través China.\n",
            "\n",
            "Los siguientes ríos están incluidos en este conjunto de datos:\n",
            "- Nilo\n",
            "- Misisipi\n",
            "- Fraser\n",
            "- Kuskokwim\n",
            "- Yangtze\n",
            "\n",
            "Los siguientes países están incluidos en este conjunto de datos:\n",
            "- Egipto\n",
            "- Estados Unidos\n",
            "- Canada\n",
            "- Alaska\n",
            "- China\n"
          ]
        }
      ]
    },
    {
      "cell_type": "markdown",
      "source": [
        "---\n",
        "\n",
        "<b> Ejercicio 2</b>\n",
        "\n",
        "Haz una lista de las personas que deberían participar en la encuesta de idiomas favoritos. Incluye algunos nombres que ya estén en el diccionario y otros que no.\n",
        "Recorra la lista de personas que deberían realizar la encuesta. Si ya han realizado la encuesta, imprima un mensaje agradeciéndoles por responder. Si aún no han realizado la encuesta, imprima un mensaje invitándoles a realizar la encuesta.\n",
        "\n",
        "---"
      ],
      "metadata": {
        "id": "aSr26WfmkSSv"
      }
    },
    {
      "cell_type": "code",
      "source": [
        "favorite_languages = {\n",
        "    'Jen': 'python',\n",
        "    'Sarah': 'c',\n",
        "    'Edward': 'ruby',\n",
        "    'Phil': 'python',\n",
        "    }\n",
        "\n",
        "for name, language in favorite_languages.items():\n",
        "    print(name.title() + \" ,lenguaje favorito es \" +\n",
        "        language.title() + \".\")\n",
        "\n",
        "print(\"\\n\")\n",
        "\n",
        "coders = ['phil', 'josh', 'david', 'becca', 'sarah', 'matt', 'danielle']\n",
        "for coder in coders:\n",
        "    if coder in favorite_languages.keys():\n",
        "        print(\"Gracias por participar en la encuesta., \" + coder.title() + \"!\")\n",
        "    else:\n",
        "        print(coder.title() + \", ¿Cuál es tu lenguaje de programación favorito?\")"
      ],
      "metadata": {
        "colab": {
          "base_uri": "https://localhost:8080/"
        },
        "id": "IAAJG1ULn7L6",
        "outputId": "ce31d8bf-2a11-4ac3-b6ea-d1bfa03bf665"
      },
      "execution_count": 31,
      "outputs": [
        {
          "output_type": "stream",
          "name": "stdout",
          "text": [
            "Jen ,lenguaje favorito es Python.\n",
            "Sarah ,lenguaje favorito es C.\n",
            "Edward ,lenguaje favorito es Ruby.\n",
            "Phil ,lenguaje favorito es Python.\n",
            "\n",
            "\n",
            "Phil, ¿Cuál es tu lenguaje de programación favorito?\n",
            "Josh, ¿Cuál es tu lenguaje de programación favorito?\n",
            "David, ¿Cuál es tu lenguaje de programación favorito?\n",
            "Becca, ¿Cuál es tu lenguaje de programación favorito?\n",
            "Sarah, ¿Cuál es tu lenguaje de programación favorito?\n",
            "Matt, ¿Cuál es tu lenguaje de programación favorito?\n",
            "Danielle, ¿Cuál es tu lenguaje de programación favorito?\n"
          ]
        }
      ]
    },
    {
      "cell_type": "markdown",
      "source": [
        "### Una lista en un diccionario"
      ],
      "metadata": {
        "id": "M3RgdLwtluyF"
      }
    },
    {
      "cell_type": "markdown",
      "source": [
        "---\n",
        "\n",
        "<b> Ejercicio 1</b>\n",
        "\n",
        "Cree tres nuevos diccionarios que representen a diferentes personas y almacene los tres diccionarios en una lista llamada personas. Recorra su lista de personas. Mientras recorre la lista, imprima todo lo que sabe sobre cada persona.\n"
      ],
      "metadata": {
        "id": "3JJTjbfhmwks"
      }
    },
    {
      "cell_type": "code",
      "source": [
        "people = []\n",
        "\n",
        "person = {\n",
        "    'first_name': 'Pedro',\n",
        "    'last_name': 'López',\n",
        "    'age': 21,\n",
        "    'city': 'Lima',\n",
        "    }\n",
        "people.append(person)\n",
        "\n",
        "person = {\n",
        "    'first_name': 'Fatima',\n",
        "    'last_name': 'López',\n",
        "    'age': 15,\n",
        "    'city': 'Lima',\n",
        "    }\n",
        "people.append(person)\n",
        "\n",
        "person = {\n",
        "    'first_name': 'Rosa',\n",
        "    'last_name': 'Flores',\n",
        "    'age': 51,\n",
        "    'city': 'Lima',\n",
        "    }\n",
        "people.append(person)\n",
        "\n",
        "# Display all of the information in the dictionary.\n",
        "for person in people:\n",
        "    name = person['first_name'].title() + \" \" + person['last_name'].title()\n",
        "    age = str(person['age'])\n",
        "    city = person['city'].title()\n",
        "    \n",
        "    print(name + \", es de \" + city + \", tiene \" + age + \" años.\")"
      ],
      "metadata": {
        "colab": {
          "base_uri": "https://localhost:8080/"
        },
        "id": "nIZdcQWJn7-f",
        "outputId": "bf3bbcb4-f7a0-4468-91a6-2cffba36c972"
      },
      "execution_count": 32,
      "outputs": [
        {
          "output_type": "stream",
          "name": "stdout",
          "text": [
            "Pedro López, es de Lima, tiene 21 años.\n",
            "Fatima López, es de Lima, tiene 15 años.\n",
            "Rosa Flores, es de Lima, tiene 51 años.\n"
          ]
        }
      ]
    },
    {
      "cell_type": "markdown",
      "source": [
        "---\n",
        "\n",
        "<b> Ejercicio 2</b>\n",
        "\n",
        "Haga varios diccionarios, donde cada diccionario represente una mascota diferente. En cada diccionario, incluya el tipo de animal y el nombre del dueño. Guarde estos diccionarios en una lista llamada mascotas. A continuación, recorra su lista y, mientras lo hace, imprima todo lo que sepa sobre cada mascota."
      ],
      "metadata": {
        "id": "oU2XiQHAnAtB"
      }
    },
    {
      "cell_type": "code",
      "source": [
        "pets = []\n",
        "\n",
        "\n",
        "pet = {\n",
        "    'animal type': 'loro',\n",
        "    'name': 'John',\n",
        "    'owner': 'Guido',\n",
        "    'weight': 6,\n",
        "    'eats': 'platano',\n",
        "}\n",
        "pets.append(pet)\n",
        "\n",
        "pet = {\n",
        "    'animal type': 'pollo',\n",
        "    'name': 'Pepe',\n",
        "    'owner': 'Tiffany',\n",
        "    'weight': 5,\n",
        "    'eats': 'Semillas',\n",
        "}\n",
        "pets.append(pet)\n",
        "\n",
        "pet = {\n",
        "    'animal type': 'perro',\n",
        "    'name': 'toby',\n",
        "    'owner': 'pedro',\n",
        "    'weight': 12,\n",
        "    'eats': 'croquetas',\n",
        "}\n",
        "pets.append(pet)\n",
        "\n",
        "# Display information about each pet.\n",
        "for pet in pets:\n",
        "    print(\"\\nEsto es lo que sé sobre \" + pet['name'].title() + \":\")\n",
        "    for key, value in pet.items():\n",
        "        print(\"\\t\" + key + \": \" + str(value))"
      ],
      "metadata": {
        "colab": {
          "base_uri": "https://localhost:8080/"
        },
        "id": "KutqFFEdn8g3",
        "outputId": "a014d72e-debd-4a87-95b9-a5a5a251438a"
      },
      "execution_count": 34,
      "outputs": [
        {
          "output_type": "stream",
          "name": "stdout",
          "text": [
            "\n",
            "Esto es lo que sé sobre John:\n",
            "\tanimal type: loro\n",
            "\tname: John\n",
            "\towner: Guido\n",
            "\tweight: 6\n",
            "\teats: platano\n",
            "\n",
            "Esto es lo que sé sobre Pepe:\n",
            "\tanimal type: pollo\n",
            "\tname: Pepe\n",
            "\towner: Tiffany\n",
            "\tweight: 5\n",
            "\teats: Semillas\n",
            "\n",
            "Esto es lo que sé sobre Toby:\n",
            "\tanimal type: perro\n",
            "\tname: toby\n",
            "\towner: pedro\n",
            "\tweight: 12\n",
            "\teats: croquetas\n"
          ]
        }
      ]
    },
    {
      "cell_type": "markdown",
      "source": [
        "---\n",
        "\n",
        "<b> Ejercicio 3</b>\n",
        "\n",
        "Haga un diccionario llamado lugares_favoritos. Piense en tres nombres para usar como llaves en el diccionario y almacene de uno a tres lugares favoritos para cada persona. Recorre el diccionario e imprime el nombre de cada persona y sus lugares favoritos."
      ],
      "metadata": {
        "id": "YH2BoPpVnMLu"
      }
    },
    {
      "cell_type": "code",
      "source": [
        "favorite_places = {\n",
        "    'Pedro': ['Surco', 'La molina', 'Rusia'],\n",
        "    'Fatima': ['Hawaii', 'Canada'],\n",
        "    'Rosa': ['Lima', 'Cuzco', 'Sur de Carolina']\n",
        "    }\n",
        "\n",
        "for name, places in favorite_places.items():\n",
        "    print(\"\\n\" + name.title() + \" le gustan los siguientes lugares:\")\n",
        "    for place in places:\n",
        "        print(\"- \" + place.title())"
      ],
      "metadata": {
        "colab": {
          "base_uri": "https://localhost:8080/"
        },
        "id": "lLujS66Qn86_",
        "outputId": "89933d89-2b49-4e0f-cb78-c4706e51b509"
      },
      "execution_count": 36,
      "outputs": [
        {
          "output_type": "stream",
          "name": "stdout",
          "text": [
            "\n",
            "Pedro le gustan los siguientes lugares:\n",
            "- Surco\n",
            "- La Molina\n",
            "- Rusia\n",
            "\n",
            "Fatima le gustan los siguientes lugares:\n",
            "- Hawaii\n",
            "- Canada\n",
            "\n",
            "Rosa le gustan los siguientes lugares:\n",
            "- Lima\n",
            "- Cuzco\n",
            "- Sur De Carolina\n"
          ]
        }
      ]
    },
    {
      "cell_type": "markdown",
      "source": [
        "---\n",
        "\n",
        "<b> Ejercicio 4</b>\n",
        "\n",
        "Haz un diccionario llamado ciudades. Usa los nombres de tres ciudades como llaves en tu diccionario. Cree un diccionario de información sobre cada ciudad e incluya el país en el que se encuentra la ciudad, su población aproximada y un dato sobre esa ciudad. Las claves para el diccionario de cada ciudad deben ser algo como país, población y hecho. Imprime el nombre de cada ciudad y toda la información que tengas almacenada sobre ella."
      ],
      "metadata": {
        "id": "YjkTHXHWnY-y"
      }
    },
    {
      "cell_type": "code",
      "source": [
        "cities = {\n",
        "    'Lima': {\n",
        "        'country': 'Peru',\n",
        "        'population': 9674755,\n",
        "        'nearby mountains': 'andes',\n",
        "        },\n",
        "    'santiago': {\n",
        "        'country': 'Chile',\n",
        "        'population': 1846216,\n",
        "        'nearby mountains': 'andes',\n",
        "        },\n",
        "    'buenos aires': {\n",
        "        'country': 'Argentina',\n",
        "        'population': 1003285,\n",
        "        'nearby mountains': 'andes',\n",
        "        }\n",
        "    }\n",
        "\n",
        "for city, city_info in cities.items():\n",
        "    country = city_info['country'].title()\n",
        "    population = city_info['population']\n",
        "    mountains = city_info['nearby mountains'].title()\n",
        "\n",
        "    print(\"\\n\" + city.title() + \" está en \" + country + \".\")\n",
        "    print(\"  Tiene una población de aproximadamente \" + str(population) + \".\")\n",
        "    print(\"  Los \" + mountains + \"  están cerca de las montañas.\")"
      ],
      "metadata": {
        "colab": {
          "base_uri": "https://localhost:8080/"
        },
        "id": "JX11JCtjn9_B",
        "outputId": "125f530b-f583-4c97-bb3c-4b3a7ed636a8"
      },
      "execution_count": 41,
      "outputs": [
        {
          "output_type": "stream",
          "name": "stdout",
          "text": [
            "\n",
            "Lima está en Peru.\n",
            "  Tiene una población de aproximadamente 9674755.\n",
            "  Los Andes  están cerca de las montañas.\n",
            "\n",
            "Santiago está en Chile.\n",
            "  Tiene una población de aproximadamente 1846216.\n",
            "  Los Andes  están cerca de las montañas.\n",
            "\n",
            "Buenos Aires está en Argentina.\n",
            "  Tiene una población de aproximadamente 1003285.\n",
            "  Los Andes  están cerca de las montañas.\n"
          ]
        }
      ]
    },
    {
      "cell_type": "markdown",
      "source": [
        "---\n",
        "\n",
        "<b> Ejercicio 5</b>\n",
        "\n",
        "Ahora estamos trabajando con ejemplos que son lo suficientemente complejos como para que puedan extenderse de varias maneras. Utilice uno de los programas de este laboratorio y amplíelo agregando nuevas claves y valores, cambiando el contexto del programa o mejorando el formato de la salida.\n",
        "\n",
        "---"
      ],
      "metadata": {
        "id": "hMvNIar-nqAr"
      }
    },
    {
      "cell_type": "code",
      "source": [
        "glossary = {\n",
        "    'Casa': 'Lugar donde vive una persona.',\n",
        "    'Comentario': 'Conjunto de palabras que puede decir una persona.',\n",
        "    'Operaciones matematicas': 'Conjunto de operaciones desde la suma hasta la division.',\n",
        "    'Diccionario': 'Libro donde se consulta en que se recoge y se define o traduce.',\n",
        "    'Cama': \"Lugar donde una persona puede descansar.\",\n",
        "    }\n",
        "\n",
        "for word, definition in glossary.items():\n",
        "    print(\"\\n\" + word.title() + \": \" + definition)"
      ],
      "metadata": {
        "colab": {
          "base_uri": "https://localhost:8080/"
        },
        "id": "c_TWsHltn-jX",
        "outputId": "83b7d0d7-57ba-422b-fe4d-5aee8bca167b"
      },
      "execution_count": 42,
      "outputs": [
        {
          "output_type": "stream",
          "name": "stdout",
          "text": [
            "\n",
            "Casa: Lugar donde vive una persona.\n",
            "\n",
            "Comentario: Conjunto de palabras que puede decir una persona.\n",
            "\n",
            "Operaciones Matematicas: Conjunto de operaciones desde la suma hasta la division.\n",
            "\n",
            "Diccionario: Libro donde se consulta en que se recoge y se define o traduce.\n",
            "\n",
            "Cama: Lugar donde una persona puede descansar.\n"
          ]
        }
      ]
    },
    {
      "cell_type": "markdown",
      "source": [
        "---\n",
        "\n",
        "# Gracias por completar este laboratorio!\n",
        "\n",
        "---\n"
      ],
      "metadata": {
        "id": "LY_03M0BoJZQ"
      }
    }
  ]
}